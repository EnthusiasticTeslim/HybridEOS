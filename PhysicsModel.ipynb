{
 "cells": [
  {
   "cell_type": "markdown",
   "metadata": {},
   "source": [
    "# Load Libraries"
   ]
  },
  {
   "cell_type": "code",
   "execution_count": 1,
   "metadata": {},
   "outputs": [
    {
     "name": "stdout",
     "output_type": "stream",
     "text": [
      "/Users/gbemidebe/Documents/GitHub/compositional_model\n"
     ]
    }
   ],
   "source": [
    "import os\n",
    "\n",
    "import numpy as np\n",
    "import pandas as pd\n",
    "import matplotlib.pyplot as plt\n",
    "import scienceplots\n",
    "from scipy.integrate import odeint\n",
    "\n",
    "\n",
    "os.chdir('../')\n",
    "\n",
    "print(os.getcwd())"
   ]
  },
  {
   "cell_type": "markdown",
   "metadata": {},
   "source": [
    "# 1. MixedResin-SPEEK(CEI)-binder-2"
   ]
  },
  {
   "cell_type": "code",
   "execution_count": 2,
   "metadata": {},
   "outputs": [],
   "source": [
    "\n",
    "\n",
    "data_orig = pd.read_excel('./data/processed/6.1-vm_lbm-pro-EDI_NaCl.xlsx', sheet_name='MixedResin-SPEEK(CEI)-binder-2', header=0)\n",
    "data = data_orig.dropna(axis=0, how='any')"
   ]
  },
  {
   "cell_type": "code",
   "execution_count": 3,
   "metadata": {},
   "outputs": [
    {
     "data": {
      "text/html": [
       "<div>\n",
       "<style scoped>\n",
       "    .dataframe tbody tr th:only-of-type {\n",
       "        vertical-align: middle;\n",
       "    }\n",
       "\n",
       "    .dataframe tbody tr th {\n",
       "        vertical-align: top;\n",
       "    }\n",
       "\n",
       "    .dataframe thead th {\n",
       "        text-align: right;\n",
       "    }\n",
       "</style>\n",
       "<table border=\"1\" class=\"dataframe\">\n",
       "  <thead>\n",
       "    <tr style=\"text-align: right;\">\n",
       "      <th></th>\n",
       "      <th>time elapsed (min)</th>\n",
       "      <th>time (min)</th>\n",
       "      <th>Stack voltage (V)</th>\n",
       "      <th>Cell voltage (V)</th>\n",
       "      <th>Current (A)</th>\n",
       "      <th>Feed conductivity (mS/cm)</th>\n",
       "      <th>Feed pH</th>\n",
       "      <th>Feed concentration (g/L)</th>\n",
       "      <th>Concentrate conductivity (mS/cm)</th>\n",
       "      <th>Conc. pH</th>\n",
       "      <th>Concentrate concentration (g/L)</th>\n",
       "    </tr>\n",
       "  </thead>\n",
       "  <tbody>\n",
       "    <tr>\n",
       "      <th>0</th>\n",
       "      <td>0</td>\n",
       "      <td>NaN</td>\n",
       "      <td>NaN</td>\n",
       "      <td>NaN</td>\n",
       "      <td>NaN</td>\n",
       "      <td>9.170</td>\n",
       "      <td>5.72</td>\n",
       "      <td>3.024395</td>\n",
       "      <td>9.21</td>\n",
       "      <td>5.60</td>\n",
       "      <td>3.035775</td>\n",
       "    </tr>\n",
       "    <tr>\n",
       "      <th>1</th>\n",
       "      <td>15</td>\n",
       "      <td>0.0</td>\n",
       "      <td>9.089</td>\n",
       "      <td>4.075</td>\n",
       "      <td>0.146</td>\n",
       "      <td>8.420</td>\n",
       "      <td>8.76</td>\n",
       "      <td>2.561735</td>\n",
       "      <td>8.90</td>\n",
       "      <td>8.64</td>\n",
       "      <td>2.911151</td>\n",
       "    </tr>\n",
       "    <tr>\n",
       "      <th>2</th>\n",
       "      <td>30</td>\n",
       "      <td>15.0</td>\n",
       "      <td>9.089</td>\n",
       "      <td>3.811</td>\n",
       "      <td>0.138</td>\n",
       "      <td>6.630</td>\n",
       "      <td>8.82</td>\n",
       "      <td>1.973194</td>\n",
       "      <td>10.67</td>\n",
       "      <td>6.95</td>\n",
       "      <td>3.510690</td>\n",
       "    </tr>\n",
       "    <tr>\n",
       "      <th>3</th>\n",
       "      <td>31</td>\n",
       "      <td>16.0</td>\n",
       "      <td>9.308</td>\n",
       "      <td>4.006</td>\n",
       "      <td>0.140</td>\n",
       "      <td>NaN</td>\n",
       "      <td>NaN</td>\n",
       "      <td>NaN</td>\n",
       "      <td>NaN</td>\n",
       "      <td>NaN</td>\n",
       "      <td>NaN</td>\n",
       "    </tr>\n",
       "    <tr>\n",
       "      <th>4</th>\n",
       "      <td>60</td>\n",
       "      <td>45.0</td>\n",
       "      <td>9.308</td>\n",
       "      <td>4.453</td>\n",
       "      <td>0.089</td>\n",
       "      <td>3.380</td>\n",
       "      <td>8.79</td>\n",
       "      <td>0.985605</td>\n",
       "      <td>13.85</td>\n",
       "      <td>7.55</td>\n",
       "      <td>4.539636</td>\n",
       "    </tr>\n",
       "    <tr>\n",
       "      <th>5</th>\n",
       "      <td>61</td>\n",
       "      <td>46.0</td>\n",
       "      <td>8.678</td>\n",
       "      <td>3.904</td>\n",
       "      <td>0.083</td>\n",
       "      <td>NaN</td>\n",
       "      <td>NaN</td>\n",
       "      <td>NaN</td>\n",
       "      <td>NaN</td>\n",
       "      <td>NaN</td>\n",
       "      <td>NaN</td>\n",
       "    </tr>\n",
       "    <tr>\n",
       "      <th>6</th>\n",
       "      <td>90</td>\n",
       "      <td>75.0</td>\n",
       "      <td>8.678</td>\n",
       "      <td>4.281</td>\n",
       "      <td>0.051</td>\n",
       "      <td>1.461</td>\n",
       "      <td>8.49</td>\n",
       "      <td>0.424394</td>\n",
       "      <td>15.47</td>\n",
       "      <td>7.20</td>\n",
       "      <td>5.133980</td>\n",
       "    </tr>\n",
       "    <tr>\n",
       "      <th>7</th>\n",
       "      <td>91</td>\n",
       "      <td>76.0</td>\n",
       "      <td>8.195</td>\n",
       "      <td>3.896</td>\n",
       "      <td>0.044</td>\n",
       "      <td>NaN</td>\n",
       "      <td>NaN</td>\n",
       "      <td>NaN</td>\n",
       "      <td>NaN</td>\n",
       "      <td>NaN</td>\n",
       "      <td>NaN</td>\n",
       "    </tr>\n",
       "    <tr>\n",
       "      <th>8</th>\n",
       "      <td>120</td>\n",
       "      <td>105.0</td>\n",
       "      <td>8.195</td>\n",
       "      <td>4.475</td>\n",
       "      <td>0.026</td>\n",
       "      <td>0.469</td>\n",
       "      <td>7.85</td>\n",
       "      <td>0.125575</td>\n",
       "      <td>16.20</td>\n",
       "      <td>7.57</td>\n",
       "      <td>5.437648</td>\n",
       "    </tr>\n",
       "    <tr>\n",
       "      <th>9</th>\n",
       "      <td>121</td>\n",
       "      <td>106.0</td>\n",
       "      <td>7.582</td>\n",
       "      <td>4.009</td>\n",
       "      <td>0.023</td>\n",
       "      <td>NaN</td>\n",
       "      <td>NaN</td>\n",
       "      <td>NaN</td>\n",
       "      <td>NaN</td>\n",
       "      <td>NaN</td>\n",
       "      <td>NaN</td>\n",
       "    </tr>\n",
       "    <tr>\n",
       "      <th>10</th>\n",
       "      <td>135</td>\n",
       "      <td>120.0</td>\n",
       "      <td>7.582</td>\n",
       "      <td>4.071</td>\n",
       "      <td>0.018</td>\n",
       "      <td>0.226</td>\n",
       "      <td>7.44</td>\n",
       "      <td>0.054312</td>\n",
       "      <td>16.38</td>\n",
       "      <td>7.70</td>\n",
       "      <td>5.520586</td>\n",
       "    </tr>\n",
       "  </tbody>\n",
       "</table>\n",
       "</div>"
      ],
      "text/plain": [
       "    time elapsed (min)  time (min)  Stack voltage (V)  Cell voltage (V)  \\\n",
       "0                    0         NaN                NaN               NaN   \n",
       "1                   15         0.0              9.089             4.075   \n",
       "2                   30        15.0              9.089             3.811   \n",
       "3                   31        16.0              9.308             4.006   \n",
       "4                   60        45.0              9.308             4.453   \n",
       "5                   61        46.0              8.678             3.904   \n",
       "6                   90        75.0              8.678             4.281   \n",
       "7                   91        76.0              8.195             3.896   \n",
       "8                  120       105.0              8.195             4.475   \n",
       "9                  121       106.0              7.582             4.009   \n",
       "10                 135       120.0              7.582             4.071   \n",
       "\n",
       "    Current (A)  Feed conductivity (mS/cm)  Feed pH  Feed concentration (g/L)  \\\n",
       "0           NaN                      9.170     5.72                  3.024395   \n",
       "1         0.146                      8.420     8.76                  2.561735   \n",
       "2         0.138                      6.630     8.82                  1.973194   \n",
       "3         0.140                        NaN      NaN                       NaN   \n",
       "4         0.089                      3.380     8.79                  0.985605   \n",
       "5         0.083                        NaN      NaN                       NaN   \n",
       "6         0.051                      1.461     8.49                  0.424394   \n",
       "7         0.044                        NaN      NaN                       NaN   \n",
       "8         0.026                      0.469     7.85                  0.125575   \n",
       "9         0.023                        NaN      NaN                       NaN   \n",
       "10        0.018                      0.226     7.44                  0.054312   \n",
       "\n",
       "    Concentrate conductivity (mS/cm)  Conc. pH  \\\n",
       "0                               9.21      5.60   \n",
       "1                               8.90      8.64   \n",
       "2                              10.67      6.95   \n",
       "3                                NaN       NaN   \n",
       "4                              13.85      7.55   \n",
       "5                                NaN       NaN   \n",
       "6                              15.47      7.20   \n",
       "7                                NaN       NaN   \n",
       "8                              16.20      7.57   \n",
       "9                                NaN       NaN   \n",
       "10                             16.38      7.70   \n",
       "\n",
       "    Concentrate concentration (g/L)  \n",
       "0                          3.035775  \n",
       "1                          2.911151  \n",
       "2                          3.510690  \n",
       "3                               NaN  \n",
       "4                          4.539636  \n",
       "5                               NaN  \n",
       "6                          5.133980  \n",
       "7                               NaN  \n",
       "8                          5.437648  \n",
       "9                               NaN  \n",
       "10                         5.520586  "
      ]
     },
     "execution_count": 3,
     "metadata": {},
     "output_type": "execute_result"
    }
   ],
   "source": [
    "data_orig"
   ]
  },
  {
   "cell_type": "code",
   "execution_count": 4,
   "metadata": {},
   "outputs": [
    {
     "data": {
      "text/plain": [
       "array([  0,  15,  30,  31,  60,  61,  90,  91, 120, 121, 135])"
      ]
     },
     "execution_count": 4,
     "metadata": {},
     "output_type": "execute_result"
    }
   ],
   "source": [
    "np.array(data_orig['time elapsed (min)'])"
   ]
  },
  {
   "cell_type": "code",
   "execution_count": 5,
   "metadata": {},
   "outputs": [
    {
     "data": {
      "text/plain": [
       "array([3.02439513, 2.56173483, 1.97319383,        nan, 0.98560537,\n",
       "              nan, 0.42439375,        nan, 0.12557464,        nan,\n",
       "       0.05431178])"
      ]
     },
     "execution_count": 5,
     "metadata": {},
     "output_type": "execute_result"
    }
   ],
   "source": [
    "np.array(data_orig['Feed concentration (g/L)'])"
   ]
  },
  {
   "cell_type": "code",
   "execution_count": 6,
   "metadata": {},
   "outputs": [
    {
     "data": {
      "text/plain": [
       "[<matplotlib.lines.Line2D at 0x16abe3550>]"
      ]
     },
     "execution_count": 6,
     "metadata": {},
     "output_type": "execute_result"
    },
    {
     "data": {
      "image/png": "[encoded data removed]",
      "text/plain": [
       "<Figure size 640x480 with 1 Axes>"
      ]
     },
     "metadata": {},
     "output_type": "display_data"
    }
   ],
   "source": [
    "plt.plot(np.array(data['time elapsed (min)']), np.array(data['Feed concentration (g/L)']))"
   ]
  },
  {
   "cell_type": "code",
   "execution_count": 7,
   "metadata": {},
   "outputs": [
    {
     "name": "stdout",
     "output_type": "stream",
     "text": [
      " Cconc0 = 82.12 mol/m3 \n",
      " Cdil0 = 72.26 mol/m3\n"
     ]
    }
   ],
   "source": [
    "# Execute simulation\n",
    "MW_Cl, MW_Na = 35.45, 23 # Molecular weight of Cl & Na, g/mol\n",
    "Cdil0 = data.loc[1, 'Feed concentration (g/L)'] * 1e3/ MW_Cl # Cl in Concentrate inlet (mol/m3)\n",
    "Cconc0 = data.loc[1, 'Concentrate concentration (g/L)'] * 1e3 / MW_Cl # Cl in Diluate inlet (mol/m3)    \n",
    "\n",
    "print(f\" Cconc0 = {Cconc0:.2f} mol/m3 \\n Cdil0 = {Cdil0:.2f} mol/m3\")"
   ]
  },
  {
   "cell_type": "code",
   "execution_count": 8,
   "metadata": {},
   "outputs": [],
   "source": [
    "from source.utils import NaclSolution, DeviceFigure"
   ]
  },
  {
   "cell_type": "code",
   "execution_count": 9,
   "metadata": {},
   "outputs": [],
   "source": [
    "NaCL = NaclSolution()"
   ]
  },
  {
   "cell_type": "code",
   "execution_count": 10,
   "metadata": {},
   "outputs": [
    {
     "name": "stdout",
     "output_type": "stream",
     "text": [
      "km_conc = 1.04e-06 m/s \n",
      "km_dil = 4.25e-07 m/s\n"
     ]
    }
   ],
   "source": [
    "Qconc = (50*1e-6) / 60      # Flow rate dil. chamber m^3/s\n",
    "Qdil = (25*1e-6) / 60       # Flow rate conc. chamber m^3/s\n",
    "A = 14e-4                   # Cross sectional area of channel m^2\n",
    "psp = 0.13                  # porosity of compartment\n",
    "Ldil = 3e-3                 # Diluate channel thickness, m\n",
    "Lconc = 1e-3                # Concentrate channel thickness, m\n",
    "km_conc = NaCL.mtc(Q=Qconc, A=A, h=Lconc, N=4, c=Cconc0, p=1) # mass transfer coefficient, m/s\n",
    "km_dil = NaCL.mtc(Q=Qdil, A=A, h=Ldil, N=4, c=Cdil0, p=1) # mass transfer coefficient, m/s\n",
    "\n",
    "print(f\"km_conc = {km_conc:.2e} m/s \\nkm_dil = {km_dil:.2e} m/s\")"
   ]
  },
  {
   "cell_type": "code",
   "execution_count": 11,
   "metadata": {},
   "outputs": [
    {
     "name": "stdout",
     "output_type": "stream",
     "text": [
      "Lconc = 1.00e-03 m \n",
      "dh = 2.00e-03 m \n",
      "interstitial_vel_channel = 1.49e-04 m/s\n"
     ]
    },
    {
     "data": {
      "text/plain": [
       "1.0803655985952359e-06"
      ]
     },
     "execution_count": 11,
     "metadata": {},
     "output_type": "execute_result"
    }
   ],
   "source": [
    "h = Lconc\n",
    "p = 1\n",
    "Q = Qconc\n",
    "N = 4\n",
    "A = 14e-4\n",
    "dh = 4 * p / (2 / h + (1 - p) * (8 / h))\n",
    "interstitial_vel_channel = Q / (p * A * N)\n",
    "\n",
    "print(f\"Lconc = {Lconc:.2e} m \\ndh = {dh:.2e} m \\ninterstitial_vel_channel = {interstitial_vel_channel:.2e} m/s\")\n",
    "viscosity_ = 0.8899e-3\n",
    "density_ = 1000\n",
    "diffusion_ = 1.6e-9\n",
    "\n",
    "Sc = viscosity_ / (density_ * diffusion_)\n",
    "Re = density_ * interstitial_vel_channel * dh / viscosity_\n",
    "Sh = 0.29 * (Re ** 0.5) * (Sc ** 0.33)\n",
    "\n",
    "Sh * diffusion_ / dh"
   ]
  },
  {
   "cell_type": "code",
   "execution_count": 12,
   "metadata": {},
   "outputs": [
    {
     "data": {
      "text/plain": [
       "11"
      ]
     },
     "execution_count": 12,
     "metadata": {},
     "output_type": "execute_result"
    }
   ],
   "source": [
    "last = len(data_orig)\n",
    "last"
   ]
  },
  {
   "cell_type": "code",
   "execution_count": 13,
   "metadata": {},
   "outputs": [
    {
     "data": {
      "text/plain": [
       "3.070109612342159"
      ]
     },
     "execution_count": 13,
     "metadata": {},
     "output_type": "execute_result"
    }
   ],
   "source": [
    "psp = 23.8/100\n",
    "def mk_dil(poros=psp):\n",
    "    idx = 'Feed concentration (g/L)'\n",
    "    Inlet = (data_orig.loc[0, idx]*1e3/35.45) # mol/m3\n",
    "    Outlet = (data_orig.loc[last-1, idx]*1e3/35.45) # mol/m3\n",
    "\n",
    "    Qdil = (25e-6)/60 # m3/s\n",
    "    A = 14e-4 # m2\n",
    "    n = 4\n",
    "\n",
    "    return ((Inlet - Outlet)/Inlet)*Qdil/(poros*A*n)\n",
    "\n",
    "mk_dil()*1e4"
   ]
  },
  {
   "cell_type": "code",
   "execution_count": 14,
   "metadata": {},
   "outputs": [
    {
     "data": {
      "text/plain": [
       "1.2180197557906978"
      ]
     },
     "execution_count": 14,
     "metadata": {},
     "output_type": "execute_result"
    }
   ],
   "source": [
    "def mk_conc():\n",
    "    idx = 'Concentrate concentration (g/L)'\n",
    "    Inlet = (data_orig.loc[0, idx]*1e3/35.45) # mol/m3\n",
    "    Outlet = (data_orig.loc[last-1, idx]*1e3/35.45) # mol/m3\n",
    "\n",
    "    Qconc = (50e-6)/60 # m3/s\n",
    "    A = 14e-4 # m2\n",
    "    n = 4\n",
    "\n",
    "    return -1*((Inlet - Outlet)/Inlet)*Qconc/(A*n)\n",
    "\n",
    "mk_conc()*1e4"
   ]
  },
  {
   "cell_type": "markdown",
   "metadata": {},
   "source": [
    "Sorption of metal ions in resins is usually diffusion-controlled and, for dilute solutions, it is generally\n",
    "admitted that external transfer is the rate-controlling process (Helfferich, 1962), the driving force being the concentration gradient through the diffusion film:"
   ]
  },
  {
   "cell_type": "code",
   "execution_count": 15,
   "metadata": {},
   "outputs": [
    {
     "name": "stdout",
     "output_type": "stream",
     "text": [
      "Simulation started\n",
      "Concentration @ Inlet: Diluate - 72.26, Concentrate - 82.12\n",
      "Simulation completed\n"
     ]
    },
    {
     "data": {
      "image/png": "[encoded data removed]",
      "text/plain": [
       "<Figure size 1000x500 with 2 Axes>"
      ]
     },
     "metadata": {},
     "output_type": "display_data"
    }
   ],
   "source": [
    "def compute_jEDI(Cconc, Cdil, t, resin, params=[35.45, 4, 3e-3, 1e-3, 14e-4, 4, 298, 1, 1, 0.6, 0.4, 7e-3, 6e-3, 1, 1, 70, 70]):\n",
    "    F = 96485 # Faraday's constant, C/mol\n",
    "    R = 8.314 # Gas constant, J/mol-K\n",
    "    #[MW_Cl, N, Ldil, Lconc, A, Ecell, T, phi, z, t_minus, t_plus, km_dil, km_conc, perm_c, perm_a, Cconc0, Cdil0] = params\n",
    "    [MW, N, Ldil, Lconc, A, Ecell, T, phi, z, t_minus, t_plus, km_dil, km_conc, perm_c, perm_a, Cconc0, Cdil0] = params\n",
    "\n",
    "    NaCl = NaclSolution()\n",
    "\n",
    "    j = 0.001 # A/m2 initial guess\n",
    "    iteration = 0 # Variable to store the number of iterations\n",
    "    while True:\n",
    "        ## A: ******** non-ohmic drop ******** ## \n",
    "        # 1. membrane-solution interface\n",
    "        # km_conc = NaCl.mtc(Q=Qconc, A=A, h=Lconc, c=Cconc, N=N, p=1) # p=1 because it is empty bed\n",
    "        # km_dil = NaCl.mtc(Q=Qdil, A=A, h=Ldil, c=Cdil, N=N, p=psp) # p=1 because it's not empty bed\n",
    "        \n",
    "        # Cwadil = Cdil - phi * j / (z * F * km_dil) * (1 - t_minus)\n",
    "        # Cwaconc = Cconc + phi * j / (z * F * km_conc) * (1 - t_minus)\n",
    "        # Cwcdil = Cdil - phi * j / (z * F * km_dil) * (1 - t_plus)\n",
    "        # Cwcconc = Cconc + phi * j / (z * F * km_conc) * (1 - t_plus)\n",
    "\n",
    "        Cwadil = Cdil - phi * j * (1 - t_minus)/ (z * F * km_dil) \n",
    "        Cwaconc = Cconc + phi * j * (1 - t_minus) / (z * F * km_conc) \n",
    "        Cwcdil = Cdil - phi * j * (1 - t_plus)/ (z * F * km_dil) \n",
    "        Cwcconc = Cconc + phi * j * (1 - t_plus) / (z * F * km_conc) \n",
    "        \n",
    "        a_conc_wc, a_dil_wc, a_conc_wa, a_dil_wa = NaCl.activity(Cwcconc), NaCl.activity(Cwcdil), NaCl.activity(Cwaconc), NaCl.activity(Cwadil)\n",
    "        Emem_cem = N * perm_c * (R * T / F) * np.log((a_conc_wc * Cwcconc) / (a_dil_wc * Cwcdil)) #+ N * NaCl.nohm_BL(cDBL=Cwadil, cBULK=Cdil, Temp=T) + N * NaCl.nohm_BL(cDBL=Cwaconc, cBULK=Cconc, Temp=T)\n",
    "        Emem_aem = N * perm_a * (R * T / F) * np.log((a_conc_wa * Cwaconc) / ( a_dil_wa * Cwadil)) #+ N * NaCl.nohm_BL(cDBL=Cwadil, cBULK=Cdil, Temp=T) + N * NaCl.nohm_BL(cDBL=Cwaconc, cBULK=Cconc, Temp=T)\n",
    "\n",
    "        Eresin_mem = N * (2*t_minus - 1)*(R * T / F) * np.log((a_dil_wc * Cwcdil)/ (a_dil_wa * Cwadil)) # solution on opposite side of bed\n",
    "\n",
    "        ## B: ******** ohmic drop ******** ## \n",
    "        # 1. diluate, ohm-m2\n",
    "        R_dil_soln = N * Ldil * 10 / NaCl.solnCond(Cdil) # solution\n",
    "        R_dil_resin = N * Ldil * 10 / NaCl.resinCond(Cdil, name=resin) # resin\n",
    "        R_dil = R_dil_soln + R_dil_resin\n",
    "        # 2. concentrate, ohm-m2\n",
    "        R_conc = N * Lconc * 10 / NaCl.solnCond(Cdil)\n",
    "        # 3. membrane\n",
    "        ra = N * NaCl.AMX(Cdil) # ohm-m2; approx. 2.8e-4\n",
    "        rc = N * NaCl.CMX(Cdil) # ohm-m2; aprox. 2.5e-4\n",
    "        # 4. Boundary layer\n",
    "        EBL_aem = N * (NaCl.ohm_BL(cDBL=Cwadil, cBULK=Cdil, tIEM=1, tBULK=t_minus) + NaCl.ohm_BL(cDBL=Cwaconc, cBULK=Cconc, tIEM=1, tBULK=t_minus))\n",
    "        EBL_cem = N * (NaCl.ohm_BL(cDBL=Cwcdil, cBULK=Cdil, tIEM=1, tBULK=t_plus) + NaCl.ohm_BL(cDBL=Cwcconc, cBULK=Cconc, tIEM=1, tBULK=t_plus))\n",
    "\n",
    "        ## current density (A/m2)\n",
    "        calculated_j = (Ecell - (Emem_cem + Emem_aem + EBL_aem + EBL_cem + Eresin_mem)) / (R_dil + R_conc + ra + rc)\n",
    "        if abs(calculated_j - j) <= 0.1 or iteration > 10000:\n",
    "            j = calculated_j\n",
    "            break\n",
    "\n",
    "        j = calculated_j\n",
    "        iteration += 1\n",
    "\n",
    "    return j # A/m2\n",
    "\n",
    "def EDI(\n",
    "                Cconc0 = 70, # Inlet concentrate concentration at inlet at t=0, mol/m3\n",
    "                Cdil0 = 70, # Inlet diluate concentration at inlet at t=0, mol/m3\n",
    "                N = 4, # No of cell pairs\n",
    "                Vconc = 0.25e-3, # concentrate tank volume, m^3; 23-25 mL each\n",
    "                Vdil = 0.25e-3, # diluate tank volume, m^3\n",
    "                Qconc = (50*1e-6) / 60, # Flow rate dil. chamber m^3/s\n",
    "                Qdil = (25*1e-6) / 60, # Flow rate conc. chamber m^3/s\n",
    "                Da = 5.5e-11, # Avg diffusion coeff of NaCl in AEM (AMX), m^2/s - (M.L. Cerva et al.)\n",
    "                Dc = 5.5e-11, # Avg diffusion coeff of NaCl in CEM (CMX), m^2/s - (M.L. Cerva et al.)\n",
    "                La = 0.14e-3, # AEM thickness, m (M.L. Cerva et al.)\n",
    "                Lc = 0.181e-3, # CEM thickness, m (M.L. Cerva et al.)\n",
    "                perm_a = 1, # Anionic permselectivity, unitless\n",
    "                perm_c = 1, # Cationic permselectivity, unitless\n",
    "                km_dil = 7.4e-04, # diluate mass transfer coefficient, m/s\n",
    "                km_conc = 1.4e-4, # diluate mass transfer coefficient, m/s\n",
    "                bt = 1.5e-4, # boundary layer thickness, m (J. Veerman et al. / Journal of Membrane Science 343 (2009) 7–15)\n",
    "                Ldil = 3e-3, # Diluate channel thickness, m\n",
    "                Lconc = 1e-3, # Concentrate channel thickness, m\n",
    "                A  = 14e-4, # Membrane area, m^2\n",
    "                Ecell = 4, # cell voltage, V\n",
    "                T_tot = 135 * 60, # Total time s, min * 60\n",
    "                dt = 1, # Time step, s\n",
    "                t_eval = None, # array of time, s\n",
    "                resin_name = 'Mixed-SPEEK', # name of resin\n",
    "                dp = 570e-6, # resin particle diameter, m  570 ± 50 μm\n",
    "                kp = 5e-6, # mass transfer coefficient, m/s\n",
    "                psp = 0.238, # porosity of the resin chamber\n",
    "                T = 20+273, # Temperature K,\n",
    "                show_plot = False, # show plot or not\n",
    "                show_exp=False, # show experimental data or not\n",
    "                data=None): # Time step, s\n",
    "    # Constants\n",
    "    z = 1 # No of electrons transferred\n",
    "    t_minus, t_plus = 0.61, 0.39 # unitless\n",
    "    F = 96485 # Faraday's constant, C/mol\n",
    "    # variables\n",
    "    Vk_d, Vk_c = A*Ldil, A*Lconc # Diluate & Concentrate compartment volume, m^3\n",
    "    t_a = 0.5*(perm_a + 1) # unitless\n",
    "    t_c = 0.5*(perm_c + 1) # unitless\n",
    "    phi = t_c - (1 - t_a) # Current efficiency\n",
    "    # set as global variables\n",
    "    keys = [MW_Cl, N, Ldil, Lconc, A, Ecell, T, phi, z, t_minus, t_plus, km_dil, km_conc, perm_c, perm_a, Cconc0, Cdil0]\n",
    "    NaCl_m = NaclSolution()\n",
    "\n",
    "    def dCdt(C, t):\n",
    "        '''\n",
    "            params:\n",
    "                Cconc: Concentrate concentration at outlet\n",
    "                Cdil: Concentrate concentration at outlet\n",
    "                Cconc_in: Concentrate concentration at inlet\n",
    "                Cdil_in: Diluate concentration at inlet\n",
    "            return:\n",
    "                DconcDt: 1st diff of Concentrate concentration wrt time\n",
    "                DdilDt: 1st diff of Diluate concentration wrt time\n",
    "                Dconc_inDt: 1st diff of Conc concentratn wrt time @ inlet\n",
    "                Ddil_inDt: 1st diff of Diluate concentration wrt time @ inlet\n",
    "\n",
    "        '''\n",
    "        # unpacking the concentrations (mol/m3) array\n",
    "        Cconc, Cdil, Cdilresin, Cconc_in, Cdil_in = C\n",
    "        \n",
    "        # current density in A/m2\n",
    "        j = compute_jEDI(Cconc=Cconc, Cdil=Cdil, t=t, resin=resin_name, params=keys) \n",
    "     \n",
    "        # concentrations at the membrane-solution interface\n",
    "        # km_conc = NaCl_m.mtc(Q=Qconc, A=A, h=Lconc, c=Cconc, N=N, p=1) # p=1 because it is empty bed\n",
    "        # km_dil = NaCl_m.mtc(Q=Qdil, A=A, h=Ldil, c=Cdil, N=N, p=psp) # p=psi because it isnt empty \n",
    "        Cwadil = Cdil - phi * j * (1 - t_minus) / (z * F * km_dil) \n",
    "        Cwaconc = Cconc + phi * j * (1 - t_minus)/ (z * F * km_conc) \n",
    "        Cwcdil = Cdil - phi * j * (1 - t_plus)/ (z * F * km_dil) \n",
    "        Cwcconc = Cconc + phi * j * (1 - t_plus) / (z * F * km_conc) \n",
    "\n",
    "        # ************ differential equations for the concentrations ************ #\n",
    "        # bulk solution in concentrate compartment\n",
    "        DconcDt = (Qconc * (Cconc_in - Cconc) + N * phi * j * A / (z * F)\n",
    "                        - N * A * Da * (Cwaconc - Cwadil) / La\n",
    "                        - N * A * Dc * (Cwcconc - Cwcdil) / Lc) / (N * Vk_c) # mol/m3-s\n",
    "        \n",
    "        # resin in the diluate compartment\n",
    "        DdilresinDt = 6*(kp/dp) * (Cdil - Cdilresin) # mol/m3-s\n",
    "        # bulk solution in diluate compartment\n",
    "        DdilDt = ((Qdil * (Cdil_in - Cdil)) - N*(1-psp)*Vk_d*DdilresinDt - (N * phi * j * A / (z * F))\n",
    "                        + (N * A * Da * (Cwaconc - Cwadil) / La)\n",
    "                        + (N * A * Dc * (Cwcconc - Cwcdil) / Lc)) / (N * psp * Vk_d) # mol/m3-s\n",
    "  \n",
    "        Dconc_inDt = Qconc * (Cconc - Cconc_in)/Vconc # mol/m3-s, concentrate inlet\n",
    "        Ddil_inDt = Qdil * (Cdil - Cdil_in)/Vdil # mol/m3-s, diluate inlet\n",
    "\n",
    "        return [DconcDt, DdilDt, DdilresinDt, Dconc_inDt, Ddil_inDt]\n",
    "\n",
    "\n",
    "    #**************************************Solve Equations**************************************\n",
    "    # Initial conditions\n",
    "    initial_conditions = [Cconc0, Cdil0, 0, Cconc0, Cdil0] # Initial conditions for the ODEs\n",
    "\n",
    "    # Parameters\n",
    "    print('Simulation started')\n",
    "    # solve\n",
    "    print(f'Concentration @ Inlet: Diluate - {Cdil0:.2f}, Concentrate - {Cconc0:.2f}')\n",
    "    \n",
    "    if t_eval is None:\n",
    "        teval = np.arange(0, T_tot+(dt/dt), dt)\n",
    "    else:\n",
    "        teval = t_eval\n",
    "\n",
    "    C = odeint(func=dCdt, y0=np.array(initial_conditions), t=teval)\n",
    "    print('Simulation completed')\n",
    "\n",
    "\n",
    "    # **************************************Plot Results**************************************\n",
    "    createFig = DeviceFigure()\n",
    "    I=createFig.EDI(C = C, teval=teval, resin_name = resin_name, param = keys, show_exp = show_exp, show_plot = show_plot, data = data, jcompute=compute_jEDI, xlim=(T_tot/60) + 5)\n",
    "\n",
    "    return C, I, teval, keys\n",
    "\n",
    "       \n",
    "ConcEff, current, teval, params = EDI(  Ecell = 4, resin_name = 'Mixed-CEI', Da=5.5e-11, Dc=5.5e-11,\n",
    "                                        Cconc0 = Cconc0, Cdil0 = Cdil0, psp = 23.8/100,\n",
    "                                        kp = 5e-6, km_dil = mk_dil(), km_conc = mk_conc(), \n",
    "                                        show_exp = True, data = data, show_plot = True,\n",
    "                                        T_tot = 120*60, dt = 15*60, t_eval = data['time (min)'].values * 60 \n",
    "                                        )"
   ]
  },
  {
   "cell_type": "markdown",
   "metadata": {},
   "source": []
  },
  {
   "cell_type": "markdown",
   "metadata": {},
   "source": [
    "# 2. MixedResin-PE-binder-2"
   ]
  },
  {
   "cell_type": "code",
   "execution_count": 16,
   "metadata": {},
   "outputs": [],
   "source": [
    "data_orig = pd.read_excel('./data/processed/6.1-vm_lbm-pro-EDI_NaCl.xlsx', sheet_name='MixedResin-PE-binder-2', header=0)\n",
    "data = data_orig.dropna(axis=0, how='any')"
   ]
  },
  {
   "cell_type": "code",
   "execution_count": 17,
   "metadata": {},
   "outputs": [
    {
     "data": {
      "text/html": [
       "<div>\n",
       "<style scoped>\n",
       "    .dataframe tbody tr th:only-of-type {\n",
       "        vertical-align: middle;\n",
       "    }\n",
       "\n",
       "    .dataframe tbody tr th {\n",
       "        vertical-align: top;\n",
       "    }\n",
       "\n",
       "    .dataframe thead th {\n",
       "        text-align: right;\n",
       "    }\n",
       "</style>\n",
       "<table border=\"1\" class=\"dataframe\">\n",
       "  <thead>\n",
       "    <tr style=\"text-align: right;\">\n",
       "      <th></th>\n",
       "      <th>time elapsed (min)</th>\n",
       "      <th>time (min)</th>\n",
       "      <th>Stack voltage (V)</th>\n",
       "      <th>Cell voltage (V)</th>\n",
       "      <th>Current (A)</th>\n",
       "      <th>Feed conductivity (mS/cm)</th>\n",
       "      <th>Feed pH</th>\n",
       "      <th>Feed concentration (g/L)</th>\n",
       "      <th>Concentrate conductivity (mS/cm)</th>\n",
       "      <th>Conc. pH</th>\n",
       "      <th>Concentrate concentration (g/L)</th>\n",
       "    </tr>\n",
       "  </thead>\n",
       "  <tbody>\n",
       "    <tr>\n",
       "      <th>0</th>\n",
       "      <td>0</td>\n",
       "      <td>NaN</td>\n",
       "      <td>NaN</td>\n",
       "      <td>NaN</td>\n",
       "      <td>NaN</td>\n",
       "      <td>9.180</td>\n",
       "      <td>5.83</td>\n",
       "      <td>3.045433</td>\n",
       "      <td>5.94</td>\n",
       "      <td>9.16</td>\n",
       "      <td>3.035381</td>\n",
       "    </tr>\n",
       "    <tr>\n",
       "      <th>1</th>\n",
       "      <td>15</td>\n",
       "      <td>0.0</td>\n",
       "      <td>9.061</td>\n",
       "      <td>4.035</td>\n",
       "      <td>0.104</td>\n",
       "      <td>8.680</td>\n",
       "      <td>11.15</td>\n",
       "      <td>2.678262</td>\n",
       "      <td>3.48</td>\n",
       "      <td>8.94</td>\n",
       "      <td>2.929363</td>\n",
       "    </tr>\n",
       "    <tr>\n",
       "      <th>2</th>\n",
       "      <td>30</td>\n",
       "      <td>15.0</td>\n",
       "      <td>9.061</td>\n",
       "      <td>3.969</td>\n",
       "      <td>0.098</td>\n",
       "      <td>7.260</td>\n",
       "      <td>11.01</td>\n",
       "      <td>2.249724</td>\n",
       "      <td>6.01</td>\n",
       "      <td>10.24</td>\n",
       "      <td>3.385553</td>\n",
       "    </tr>\n",
       "    <tr>\n",
       "      <th>3</th>\n",
       "      <td>31</td>\n",
       "      <td>16.0</td>\n",
       "      <td>9.110</td>\n",
       "      <td>4.002</td>\n",
       "      <td>0.098</td>\n",
       "      <td>NaN</td>\n",
       "      <td>NaN</td>\n",
       "      <td>NaN</td>\n",
       "      <td>NaN</td>\n",
       "      <td>NaN</td>\n",
       "      <td>NaN</td>\n",
       "    </tr>\n",
       "    <tr>\n",
       "      <th>4</th>\n",
       "      <td>60</td>\n",
       "      <td>45.0</td>\n",
       "      <td>9.110</td>\n",
       "      <td>4.017</td>\n",
       "      <td>0.081</td>\n",
       "      <td>4.750</td>\n",
       "      <td>10.81</td>\n",
       "      <td>1.473587</td>\n",
       "      <td>9.66</td>\n",
       "      <td>12.53</td>\n",
       "      <td>4.245788</td>\n",
       "    </tr>\n",
       "    <tr>\n",
       "      <th>5</th>\n",
       "      <td>61</td>\n",
       "      <td>46.0</td>\n",
       "      <td>9.072</td>\n",
       "      <td>3.989</td>\n",
       "      <td>0.081</td>\n",
       "      <td>NaN</td>\n",
       "      <td>NaN</td>\n",
       "      <td>NaN</td>\n",
       "      <td>NaN</td>\n",
       "      <td>NaN</td>\n",
       "      <td>NaN</td>\n",
       "    </tr>\n",
       "    <tr>\n",
       "      <th>6</th>\n",
       "      <td>92</td>\n",
       "      <td>77.0</td>\n",
       "      <td>9.072</td>\n",
       "      <td>4.140</td>\n",
       "      <td>0.056</td>\n",
       "      <td>2.480</td>\n",
       "      <td>10.59</td>\n",
       "      <td>0.783912</td>\n",
       "      <td>10.08</td>\n",
       "      <td>14.58</td>\n",
       "      <td>4.907146</td>\n",
       "    </tr>\n",
       "    <tr>\n",
       "      <th>7</th>\n",
       "      <td>93</td>\n",
       "      <td>78.0</td>\n",
       "      <td>8.891</td>\n",
       "      <td>3.974</td>\n",
       "      <td>0.056</td>\n",
       "      <td>NaN</td>\n",
       "      <td>NaN</td>\n",
       "      <td>NaN</td>\n",
       "      <td>NaN</td>\n",
       "      <td>NaN</td>\n",
       "      <td>NaN</td>\n",
       "    </tr>\n",
       "    <tr>\n",
       "      <th>8</th>\n",
       "      <td>122</td>\n",
       "      <td>107.0</td>\n",
       "      <td>8.891</td>\n",
       "      <td>4.221</td>\n",
       "      <td>0.034</td>\n",
       "      <td>1.116</td>\n",
       "      <td>10.32</td>\n",
       "      <td>0.350284</td>\n",
       "      <td>10.30</td>\n",
       "      <td>15.75</td>\n",
       "      <td>5.326576</td>\n",
       "    </tr>\n",
       "    <tr>\n",
       "      <th>9</th>\n",
       "      <td>123</td>\n",
       "      <td>108.0</td>\n",
       "      <td>8.595</td>\n",
       "      <td>3.951</td>\n",
       "      <td>0.034</td>\n",
       "      <td>NaN</td>\n",
       "      <td>NaN</td>\n",
       "      <td>NaN</td>\n",
       "      <td>NaN</td>\n",
       "      <td>NaN</td>\n",
       "      <td>NaN</td>\n",
       "    </tr>\n",
       "    <tr>\n",
       "      <th>10</th>\n",
       "      <td>180</td>\n",
       "      <td>165.0</td>\n",
       "      <td>8.595</td>\n",
       "      <td>4.883</td>\n",
       "      <td>0.012</td>\n",
       "      <td>0.109</td>\n",
       "      <td>9.22</td>\n",
       "      <td>0.021545</td>\n",
       "      <td>10.42</td>\n",
       "      <td>16.62</td>\n",
       "      <td>5.659289</td>\n",
       "    </tr>\n",
       "  </tbody>\n",
       "</table>\n",
       "</div>"
      ],
      "text/plain": [
       "    time elapsed (min)  time (min)  Stack voltage (V)  Cell voltage (V)  \\\n",
       "0                    0         NaN                NaN               NaN   \n",
       "1                   15         0.0              9.061             4.035   \n",
       "2                   30        15.0              9.061             3.969   \n",
       "3                   31        16.0              9.110             4.002   \n",
       "4                   60        45.0              9.110             4.017   \n",
       "5                   61        46.0              9.072             3.989   \n",
       "6                   92        77.0              9.072             4.140   \n",
       "7                   93        78.0              8.891             3.974   \n",
       "8                  122       107.0              8.891             4.221   \n",
       "9                  123       108.0              8.595             3.951   \n",
       "10                 180       165.0              8.595             4.883   \n",
       "\n",
       "    Current (A)  Feed conductivity (mS/cm)  Feed pH  Feed concentration (g/L)  \\\n",
       "0           NaN                      9.180     5.83                  3.045433   \n",
       "1         0.104                      8.680    11.15                  2.678262   \n",
       "2         0.098                      7.260    11.01                  2.249724   \n",
       "3         0.098                        NaN      NaN                       NaN   \n",
       "4         0.081                      4.750    10.81                  1.473587   \n",
       "5         0.081                        NaN      NaN                       NaN   \n",
       "6         0.056                      2.480    10.59                  0.783912   \n",
       "7         0.056                        NaN      NaN                       NaN   \n",
       "8         0.034                      1.116    10.32                  0.350284   \n",
       "9         0.034                        NaN      NaN                       NaN   \n",
       "10        0.012                      0.109     9.22                  0.021545   \n",
       "\n",
       "    Concentrate conductivity (mS/cm)  Conc. pH  \\\n",
       "0                               5.94      9.16   \n",
       "1                               3.48      8.94   \n",
       "2                               6.01     10.24   \n",
       "3                                NaN       NaN   \n",
       "4                               9.66     12.53   \n",
       "5                                NaN       NaN   \n",
       "6                              10.08     14.58   \n",
       "7                                NaN       NaN   \n",
       "8                              10.30     15.75   \n",
       "9                                NaN       NaN   \n",
       "10                             10.42     16.62   \n",
       "\n",
       "    Concentrate concentration (g/L)  \n",
       "0                          3.035381  \n",
       "1                          2.929363  \n",
       "2                          3.385553  \n",
       "3                               NaN  \n",
       "4                          4.245788  \n",
       "5                               NaN  \n",
       "6                          4.907146  \n",
       "7                               NaN  \n",
       "8                          5.326576  \n",
       "9                               NaN  \n",
       "10                         5.659289  "
      ]
     },
     "execution_count": 17,
     "metadata": {},
     "output_type": "execute_result"
    }
   ],
   "source": [
    "data_orig"
   ]
  },
  {
   "cell_type": "code",
   "execution_count": 18,
   "metadata": {},
   "outputs": [
    {
     "name": "stdout",
     "output_type": "stream",
     "text": [
      " Cconc0 = 82.63 mol/m3 \n",
      " Cdil0 = 75.55 mol/m3\n"
     ]
    }
   ],
   "source": [
    "# Execute simulation\n",
    "MW_Cl, MW_Na = 35.45, 23 # Molecular weight of Cl & Na, g/mol\n",
    "Cdil0 = data.loc[1, 'Feed concentration (g/L)'] * 1e3/ MW_Cl # Cl in Concentrate inlet (mol/m3)\n",
    "Cconc0 = data.loc[1, 'Concentrate concentration (g/L)'] * 1e3 / MW_Cl # Cl in Diluate inlet (mol/m3)    \n",
    "\n",
    "print(f\" Cconc0 = {Cconc0:.2f} mol/m3 \\n Cdil0 = {Cdil0:.2f} mol/m3\")"
   ]
  },
  {
   "cell_type": "code",
   "execution_count": 19,
   "metadata": {},
   "outputs": [],
   "source": [
    "NaCL = NaclSolution()"
   ]
  },
  {
   "cell_type": "code",
   "execution_count": 20,
   "metadata": {},
   "outputs": [
    {
     "data": {
      "text/plain": [
       "11"
      ]
     },
     "execution_count": 20,
     "metadata": {},
     "output_type": "execute_result"
    }
   ],
   "source": [
    "last = len(data_orig)\n",
    "last"
   ]
  },
  {
   "cell_type": "code",
   "execution_count": 21,
   "metadata": {},
   "outputs": [
    {
     "data": {
      "text/plain": [
       "2.787863308718791"
      ]
     },
     "execution_count": 21,
     "metadata": {},
     "output_type": "execute_result"
    }
   ],
   "source": [
    "psp = 26.5/100\n",
    "def mk_dil(poros=psp):\n",
    "    idx = 'Feed concentration (g/L)'\n",
    "    Inlet = (data_orig.loc[0, idx]*1e3/35.45) # mol/m3\n",
    "    Outlet = (data_orig.loc[last-1, idx]*1e3/35.45) # mol/m3\n",
    "\n",
    "    Qdil = (25e-6)/60 # m3/s\n",
    "    A = 14e-4 # m2\n",
    "    n = 4\n",
    "\n",
    "    return ((Inlet - Outlet)/Inlet)*Qdil/(poros*A*n)\n",
    "\n",
    "mk_dil()*1e4"
   ]
  },
  {
   "cell_type": "code",
   "execution_count": 22,
   "metadata": {},
   "outputs": [
    {
     "data": {
      "text/plain": [
       "1.2863709169137179"
      ]
     },
     "execution_count": 22,
     "metadata": {},
     "output_type": "execute_result"
    }
   ],
   "source": [
    "def mk_conc():\n",
    "    idx = 'Concentrate concentration (g/L)'\n",
    "    Inlet = (data_orig.loc[0, idx]*1e3/35.45) # mol/m3\n",
    "    Outlet = (data_orig.loc[last-1, idx]*1e3/35.45) # mol/m3\n",
    "\n",
    "    Qconc = (50e-6)/60 # m3/s\n",
    "    A = 14e-4 # m2\n",
    "    n = 4\n",
    "\n",
    "    return -1*((Inlet - Outlet)/Inlet)*Qconc/(A*n)\n",
    "\n",
    "mk_conc()*1e4"
   ]
  },
  {
   "cell_type": "markdown",
   "metadata": {},
   "source": [
    "Sorption of metal ions in resins is usually diffusion-controlled and, for dilute solutions, it is generally\n",
    "admitted that external transfer is the rate-controlling process (Helfferich, 1962), the driving force being the concentration gradient through the diffusion film:"
   ]
  },
  {
   "cell_type": "code",
   "execution_count": 23,
   "metadata": {},
   "outputs": [
    {
     "name": "stdout",
     "output_type": "stream",
     "text": [
      "Simulation started\n",
      "Concentration @ Inlet: Diluate - 75.55, Concentrate - 82.63\n",
      "Simulation completed\n"
     ]
    },
    {
     "data": {
      "image/png": "[encoded data removed]",
      "text/plain": [
       "<Figure size 1000x500 with 2 Axes>"
      ]
     },
     "metadata": {},
     "output_type": "display_data"
    }
   ],
   "source": [
    "def compute_jEDI(Cconc, Cdil, t, resin, params=[35.45, 4, 3e-3, 1e-3, 14e-4, 4, 298, 1, 1, 0.6, 0.4, 7e-3, 6e-3, 1, 1, 70, 70]):\n",
    "    F = 96485 # Faraday's constant, C/mol\n",
    "    R = 8.314 # Gas constant, J/mol-K\n",
    "    #[MW_Cl, N, Ldil, Lconc, A, Ecell, T, phi, z, t_minus, t_plus, km_dil, km_conc, perm_c, perm_a, Cconc0, Cdil0] = params\n",
    "    [MW, N, Ldil, Lconc, A, Ecell, T, phi, z, t_minus, t_plus, km_dil, km_conc, perm_c, perm_a, Cconc0, Cdil0] = params\n",
    "\n",
    "    NaCl = NaclSolution()\n",
    "\n",
    "    j = 0.001 # A/m2 initial guess\n",
    "    iteration = 0 # Variable to store the number of iterations\n",
    "    while True:\n",
    "        ## A: ******** non-ohmic drop ******** ## \n",
    "        # 1. membrane-solution interface\n",
    "        # km_conc = NaCl.mtc(Q=Qconc, A=A, h=Lconc, c=Cconc, N=N, p=1) # p=1 because it is empty bed\n",
    "        # km_dil = NaCl.mtc(Q=Qdil, A=A, h=Ldil, c=Cdil, N=N, p=psp) # p=1 because it's not empty bed\n",
    "        \n",
    "        Cwadil = Cdil - phi * j / (z * F * km_dil) * (1 - t_minus)\n",
    "        Cwaconc = Cconc + phi * j / (z * F * km_conc) * (1 - t_minus)\n",
    "        Cwcdil = Cdil - phi * j / (z * F * km_dil) * (1 - t_plus)\n",
    "        Cwcconc = Cconc + phi * j / (z * F * km_conc) * (1 - t_plus)\n",
    "        \n",
    "        a_conc_wc, a_dil_wc, a_conc_wa, a_dil_wa = NaCl.activity(Cwcconc), NaCl.activity(Cwcdil), NaCl.activity(Cwaconc), NaCl.activity(Cwadil)\n",
    "        Emem_cem = N * perm_c * (R * T / F) * np.log((a_conc_wc * Cwcconc) / (a_dil_wc * Cwcdil)) #+ N * NaCl.nohm_BL(cDBL=Cwadil, cBULK=Cdil, Temp=T) + N * NaCl.nohm_BL(cDBL=Cwaconc, cBULK=Cconc, Temp=T)\n",
    "        Emem_aem = N * perm_a * (R * T / F) * np.log((a_conc_wa * Cwaconc) / ( a_dil_wa * Cwadil)) #+ N * NaCl.nohm_BL(cDBL=Cwadil, cBULK=Cdil, Temp=T) + N * NaCl.nohm_BL(cDBL=Cwaconc, cBULK=Cconc, Temp=T)\n",
    "\n",
    "        Eresin_mem = N * (2*t_minus - 1)*(R * T / F) * np.log((a_dil_wc * Cwcdil)/ (a_dil_wa * Cwadil)) # solution on opposite side of bed\n",
    "\n",
    "        ## B: ******** ohmic drop ******** ## \n",
    "        # 1. diluate, ohm-m2\n",
    "        R_dil_soln = N * Ldil * 10 / NaCl.solnCond(Cdil) # solution\n",
    "        R_dil_resin = N * Ldil * 10 / NaCl.resinCond(Cdil, name=resin) # resin\n",
    "        R_dil = R_dil_soln + R_dil_resin\n",
    "        # 2. concentrate, ohm-m2\n",
    "        R_conc = N * Lconc * 10 / NaCl.solnCond(Cdil)\n",
    "        # 3. membrane\n",
    "        ra = N * NaCl.AMX(Cdil) # ohm-m2; approx. 2.8e-4\n",
    "        rc = N * NaCl.CMX(Cdil) # ohm-m2; aprox. 2.5e-4\n",
    "        # 4. Boundary layer\n",
    "        EBL_aem = N * (NaCl.ohm_BL(cDBL=Cwadil, cBULK=Cdil, tIEM=1, tBULK=t_minus) + NaCl.ohm_BL(cDBL=Cwaconc, cBULK=Cconc, tIEM=1, tBULK=t_minus))\n",
    "        EBL_cem = N * (NaCl.ohm_BL(cDBL=Cwcdil, cBULK=Cdil, tIEM=1, tBULK=t_plus) + NaCl.ohm_BL(cDBL=Cwcconc, cBULK=Cconc, tIEM=1, tBULK=t_plus))\n",
    "\n",
    "        ## current density (A/m2)\n",
    "        calculated_j = (Ecell - (Emem_cem + Emem_aem + EBL_aem + EBL_cem + Eresin_mem)) / (R_dil + R_conc + ra + rc)\n",
    "        if abs(calculated_j - j) <= 0.1 or iteration > 10000:\n",
    "            j = calculated_j\n",
    "            break\n",
    "\n",
    "        j = calculated_j\n",
    "        iteration += 1\n",
    "\n",
    "    return j # A/m2\n",
    "\n",
    "def EDI(\n",
    "                Cconc0 = 70, # Inlet concentrate concentration at inlet at t=0, mol/m3\n",
    "                Cdil0 = 70, # Inlet diluate concentration at inlet at t=0, mol/m3\n",
    "                N = 4, # No of cell pairs\n",
    "                Vconc = 0.25e-3, # concentrate tank volume, m^3; 23-25 mL each\n",
    "                Vdil = 0.25e-3, # diluate tank volume, m^3\n",
    "                Qconc = (50*1e-6) / 60, # Flow rate dil. chamber m^3/s\n",
    "                Qdil = (25*1e-6) / 60, # Flow rate conc. chamber m^3/s\n",
    "                Da = 5.5e-11, # Avg diffusion coeff of NaCl in AEM (AMX), m^2/s - (M.L. Cerva et al.)\n",
    "                Dc = 5.5e-11, # Avg diffusion coeff of NaCl in CEM (CMX), m^2/s - (M.L. Cerva et al.)\n",
    "                La = 0.14e-3, # AEM thickness, m (M.L. Cerva et al.)\n",
    "                Lc = 0.181e-3, # CEM thickness, m (M.L. Cerva et al.)\n",
    "                perm_a = 1, # Anionic permselectivity, unitless\n",
    "                perm_c = 1, # Cationic permselectivity, unitless\n",
    "                km_dil = 7.4e-04, # diluate mass transfer coefficient, m/s\n",
    "                km_conc = 1.4e-4, # diluate mass transfer coefficient, m/s\n",
    "                bt = 1.5e-4, # boundary layer thickness, m (J. Veerman et al. / Journal of Membrane Science 343 (2009) 7–15)\n",
    "                Ldil = 3e-3, # Diluate channel thickness, m\n",
    "                Lconc = 1e-3, # Concentrate channel thickness, m\n",
    "                A  = 14e-4, # Membrane area, m^2\n",
    "                Ecell = 4, # cell voltage, V\n",
    "                T_tot = 135 * 60, # Total time s, min * 60\n",
    "                dt = 1, # Time step, s\n",
    "                t_eval = None, # array of time, s\n",
    "                resin_name = 'Mixed-SPEEK', # name of resin\n",
    "                dp = 570e-6, # resin particle diameter, m  570 ± 50 μm\n",
    "                kp = 5e-6, # mass transfer coefficient, m/s\n",
    "                psp = 0.238, # porosity of the resin chamber\n",
    "                T = 20+273, # Temperature K,\n",
    "                show_plot = False, # show plot or not\n",
    "                show_exp=False, # show experimental data or not\n",
    "                data=None): # Time step, s\n",
    "    # Constants\n",
    "    z = 1 # No of electrons transferred\n",
    "    t_minus, t_plus = 0.61, 0.39 # unitless\n",
    "    F = 96485 # Faraday's constant, C/mol\n",
    "    # variables\n",
    "    Vk_d, Vk_c = A*Ldil, A*Lconc # Diluate & Concentrate compartment volume, m^3\n",
    "    t_a = 0.5*(perm_a + 1) # unitless\n",
    "    t_c = 0.5*(perm_c + 1) # unitless\n",
    "    phi = t_c - (1 - t_a) # Current efficiency\n",
    "    # set as global variables\n",
    "    keys = [MW_Cl, N, Ldil, Lconc, A, Ecell, T, phi, z, t_minus, t_plus, km_dil, km_conc, perm_c, perm_a, Cconc0, Cdil0]\n",
    "    NaCl_m = NaclSolution()\n",
    "\n",
    "    def dCdt(C, t):\n",
    "        '''\n",
    "            params:\n",
    "                Cconc: Concentrate concentration at outlet\n",
    "                Cdil: Concentrate concentration at outlet\n",
    "                Cconc_in: Concentrate concentration at inlet\n",
    "                Cdil_in: Diluate concentration at inlet\n",
    "            return:\n",
    "                DconcDt: 1st diff of Concentrate concentration wrt time\n",
    "                DdilDt: 1st diff of Diluate concentration wrt time\n",
    "                Dconc_inDt: 1st diff of Conc concentratn wrt time @ inlet\n",
    "                Ddil_inDt: 1st diff of Diluate concentration wrt time @ inlet\n",
    "\n",
    "        '''\n",
    "        # unpacking the concentrations (mol/m3) array\n",
    "        Cconc, Cdil, Cdilresin, Cconc_in, Cdil_in = C\n",
    "        \n",
    "        # current density in A/m2\n",
    "        j = compute_jEDI(Cconc=Cconc, Cdil=Cdil, t=t, resin=resin_name, params=keys) \n",
    "     \n",
    "        # concentrations at the membrane-solution interface\n",
    "        # km_conc = NaCl_m.mtc(Q=Qconc, A=A, h=Lconc, c=Cconc, N=N, p=1) # p=1 because it is empty bed\n",
    "        # km_dil = NaCl_m.mtc(Q=Qdil, A=A, h=Ldil, c=Cdil, N=N, p=psp) # p=psi because it isnt empty \n",
    "        Cwadil = Cdil - phi * j / (z * F * km_dil) * (1 - t_minus)\n",
    "        Cwaconc = Cconc + phi * j / (z * F * km_conc) * (1 - t_minus)\n",
    "        Cwcdil = Cdil - phi * j / (z * F * km_dil) * (1 - t_plus)\n",
    "        Cwcconc = Cconc + phi * j / (z * F * km_conc) * (1 - t_plus)\n",
    "\n",
    "        # ************ differential equations for the concentrations ************ #\n",
    "        # bulk solution in concentrate compartment\n",
    "        DconcDt = (Qconc * (Cconc_in - Cconc) + N * phi * j * A / (z * F)\n",
    "                        - N * A * Da * (Cwaconc - Cwadil) / La\n",
    "                        - N * A * Dc * (Cwcconc - Cwcdil) / Lc) / (N * Vk_c) # mol/m3-s\n",
    "        \n",
    "        # resin in the diluate compartment\n",
    "        DdilresinDt = 6*(kp/dp) * (Cdil - Cdilresin) # mol/m3-s\n",
    "        # bulk solution in diluate compartment\n",
    "        DdilDt = ((Qdil * (Cdil_in - Cdil)) - (1-psp)*Vk_d*DdilresinDt - (N * phi * j * A / (z * F))\n",
    "                        + (N * A * Da * (Cwaconc - Cwadil) / La)\n",
    "                        + (N * A * Dc * (Cwcconc - Cwcdil) / Lc)) / (N * psp * Vk_d) # mol/m3-s\n",
    "  \n",
    "        Dconc_inDt = Qconc * (Cconc - Cconc_in)/Vconc # mol/m3-s, concentrate inlet\n",
    "        Ddil_inDt = Qdil * (Cdil - Cdil_in)/Vdil # mol/m3-s, diluate inlet\n",
    "\n",
    "        return [DconcDt, DdilDt, DdilresinDt, Dconc_inDt, Ddil_inDt]\n",
    "\n",
    "\n",
    "    #**************************************Solve Equations**************************************\n",
    "    # Initial conditions\n",
    "    initial_conditions = [Cconc0, Cdil0, Cdil0, Cconc0, Cdil0] # Initial conditions for the ODEs\n",
    "\n",
    "    # Parameters\n",
    "    print('Simulation started')\n",
    "    # solve\n",
    "    print(f'Concentration @ Inlet: Diluate - {Cdil0:.2f}, Concentrate - {Cconc0:.2f}')\n",
    "    \n",
    "    if t_eval is None:\n",
    "        teval = np.arange(0, T_tot+(dt/dt), dt)\n",
    "    else:\n",
    "        teval = t_eval\n",
    "\n",
    "    C = odeint(func=dCdt, y0=np.array(initial_conditions), t=teval)\n",
    "    print('Simulation completed')\n",
    "\n",
    "\n",
    "    # **************************************Plot Results**************************************\n",
    "    createFig = DeviceFigure()\n",
    "    I=createFig.EDI(C = C, teval=teval, resin_name = resin_name, param = keys, show_exp = show_exp, show_plot = show_plot, data = data, jcompute=compute_jEDI, xlim=(T_tot/60) + 5)\n",
    "\n",
    "    return C, I, teval, keys\n",
    "\n",
    "       \n",
    "ConcEff, current, teval, params = EDI(  Ecell = 4, resin_name = 'Mixed-PE', Da=5.5e-11, Dc=5.5e-11,\n",
    "                                        Cconc0 = Cconc0, Cdil0 = Cdil0, psp = 26.5/100,\n",
    "                                        kp = 4e-6, km_dil = mk_dil(), km_conc = mk_conc(), \n",
    "                                        show_exp = True, data = data, show_plot = True,\n",
    "                                        T_tot = 120*60, dt = 15*60, t_eval = data['time (min)'].values * 60 \n",
    "                                        )"
   ]
  },
  {
   "cell_type": "markdown",
   "metadata": {},
   "source": []
  },
  {
   "cell_type": "markdown",
   "metadata": {},
   "source": [
    "# 3. AER-SPEEK(CEI)-binder-2"
   ]
  },
  {
   "cell_type": "code",
   "execution_count": 24,
   "metadata": {},
   "outputs": [],
   "source": [
    "\n",
    "\n",
    "data_orig = pd.read_excel('./data/processed/6.1-vm_lbm-pro-EDI_NaCl.xlsx', sheet_name='AER_Resin-SPEEK(CEI)-binder-2', header=0)\n",
    "data = data_orig.dropna(axis=0, how='any')"
   ]
  },
  {
   "cell_type": "code",
   "execution_count": 25,
   "metadata": {},
   "outputs": [
    {
     "data": {
      "text/html": [
       "<div>\n",
       "<style scoped>\n",
       "    .dataframe tbody tr th:only-of-type {\n",
       "        vertical-align: middle;\n",
       "    }\n",
       "\n",
       "    .dataframe tbody tr th {\n",
       "        vertical-align: top;\n",
       "    }\n",
       "\n",
       "    .dataframe thead th {\n",
       "        text-align: right;\n",
       "    }\n",
       "</style>\n",
       "<table border=\"1\" class=\"dataframe\">\n",
       "  <thead>\n",
       "    <tr style=\"text-align: right;\">\n",
       "      <th></th>\n",
       "      <th>time elapsed (min)</th>\n",
       "      <th>time (min)</th>\n",
       "      <th>Stack voltage (V)</th>\n",
       "      <th>Cell voltage (V)</th>\n",
       "      <th>Current (A)</th>\n",
       "      <th>Feed conductivity (mS/cm)</th>\n",
       "      <th>Feed pH</th>\n",
       "      <th>Feed concentration (g/L)</th>\n",
       "      <th>Concentrate conductivity (mS/cm)</th>\n",
       "      <th>Conc. pH</th>\n",
       "      <th>Concentrate concentration (g/L)</th>\n",
       "    </tr>\n",
       "  </thead>\n",
       "  <tbody>\n",
       "    <tr>\n",
       "      <th>0</th>\n",
       "      <td>0</td>\n",
       "      <td>NaN</td>\n",
       "      <td>NaN</td>\n",
       "      <td>NaN</td>\n",
       "      <td>NaN</td>\n",
       "      <td>9.1300</td>\n",
       "      <td>5.63</td>\n",
       "      <td>3.011023</td>\n",
       "      <td>9.17</td>\n",
       "      <td>5.56</td>\n",
       "      <td>3.013884</td>\n",
       "    </tr>\n",
       "    <tr>\n",
       "      <th>1</th>\n",
       "      <td>15</td>\n",
       "      <td>0.0</td>\n",
       "      <td>8.645</td>\n",
       "      <td>4.002</td>\n",
       "      <td>0.192</td>\n",
       "      <td>8.6300</td>\n",
       "      <td>8.92</td>\n",
       "      <td>2.701598</td>\n",
       "      <td>8.92</td>\n",
       "      <td>9.04</td>\n",
       "      <td>2.920419</td>\n",
       "    </tr>\n",
       "    <tr>\n",
       "      <th>2</th>\n",
       "      <td>30</td>\n",
       "      <td>15.0</td>\n",
       "      <td>8.645</td>\n",
       "      <td>4.249</td>\n",
       "      <td>0.168</td>\n",
       "      <td>6.3100</td>\n",
       "      <td>9.01</td>\n",
       "      <td>1.932361</td>\n",
       "      <td>11.24</td>\n",
       "      <td>8.70</td>\n",
       "      <td>3.707479</td>\n",
       "    </tr>\n",
       "    <tr>\n",
       "      <th>3</th>\n",
       "      <td>31</td>\n",
       "      <td>16.0</td>\n",
       "      <td>8.272</td>\n",
       "      <td>3.911</td>\n",
       "      <td>0.157</td>\n",
       "      <td>NaN</td>\n",
       "      <td>NaN</td>\n",
       "      <td>NaN</td>\n",
       "      <td>NaN</td>\n",
       "      <td>NaN</td>\n",
       "      <td>NaN</td>\n",
       "    </tr>\n",
       "    <tr>\n",
       "      <th>4</th>\n",
       "      <td>60</td>\n",
       "      <td>45.0</td>\n",
       "      <td>8.272</td>\n",
       "      <td>4.202</td>\n",
       "      <td>0.086</td>\n",
       "      <td>2.6600</td>\n",
       "      <td>8.67</td>\n",
       "      <td>0.810752</td>\n",
       "      <td>14.61</td>\n",
       "      <td>8.22</td>\n",
       "      <td>4.844255</td>\n",
       "    </tr>\n",
       "    <tr>\n",
       "      <th>5</th>\n",
       "      <td>61</td>\n",
       "      <td>46.0</td>\n",
       "      <td>7.960</td>\n",
       "      <td>3.901</td>\n",
       "      <td>0.082</td>\n",
       "      <td>NaN</td>\n",
       "      <td>NaN</td>\n",
       "      <td>NaN</td>\n",
       "      <td>NaN</td>\n",
       "      <td>NaN</td>\n",
       "      <td>NaN</td>\n",
       "    </tr>\n",
       "    <tr>\n",
       "      <th>6</th>\n",
       "      <td>90</td>\n",
       "      <td>75.0</td>\n",
       "      <td>7.960</td>\n",
       "      <td>4.158</td>\n",
       "      <td>0.037</td>\n",
       "      <td>0.8500</td>\n",
       "      <td>7.93</td>\n",
       "      <td>0.254380</td>\n",
       "      <td>16.17</td>\n",
       "      <td>8.10</td>\n",
       "      <td>5.370352</td>\n",
       "    </tr>\n",
       "    <tr>\n",
       "      <th>7</th>\n",
       "      <td>91</td>\n",
       "      <td>76.0</td>\n",
       "      <td>7.664</td>\n",
       "      <td>3.891</td>\n",
       "      <td>0.037</td>\n",
       "      <td>NaN</td>\n",
       "      <td>NaN</td>\n",
       "      <td>NaN</td>\n",
       "      <td>NaN</td>\n",
       "      <td>NaN</td>\n",
       "      <td>NaN</td>\n",
       "    </tr>\n",
       "    <tr>\n",
       "      <th>8</th>\n",
       "      <td>120</td>\n",
       "      <td>105.0</td>\n",
       "      <td>7.664</td>\n",
       "      <td>4.192</td>\n",
       "      <td>0.018</td>\n",
       "      <td>0.1863</td>\n",
       "      <td>7.34</td>\n",
       "      <td>0.042786</td>\n",
       "      <td>16.67</td>\n",
       "      <td>8.06</td>\n",
       "      <td>5.616354</td>\n",
       "    </tr>\n",
       "    <tr>\n",
       "      <th>9</th>\n",
       "      <td>121</td>\n",
       "      <td>106.0</td>\n",
       "      <td>7.417</td>\n",
       "      <td>3.981</td>\n",
       "      <td>0.018</td>\n",
       "      <td>NaN</td>\n",
       "      <td>NaN</td>\n",
       "      <td>NaN</td>\n",
       "      <td>NaN</td>\n",
       "      <td>NaN</td>\n",
       "      <td>NaN</td>\n",
       "    </tr>\n",
       "    <tr>\n",
       "      <th>10</th>\n",
       "      <td>135</td>\n",
       "      <td>120.0</td>\n",
       "      <td>7.417</td>\n",
       "      <td>4.032</td>\n",
       "      <td>0.013</td>\n",
       "      <td>0.0698</td>\n",
       "      <td>7.01</td>\n",
       "      <td>0.010248</td>\n",
       "      <td>16.74</td>\n",
       "      <td>7.96</td>\n",
       "      <td>5.714209</td>\n",
       "    </tr>\n",
       "  </tbody>\n",
       "</table>\n",
       "</div>"
      ],
      "text/plain": [
       "    time elapsed (min)  time (min)  Stack voltage (V)  Cell voltage (V)  \\\n",
       "0                    0         NaN                NaN               NaN   \n",
       "1                   15         0.0              8.645             4.002   \n",
       "2                   30        15.0              8.645             4.249   \n",
       "3                   31        16.0              8.272             3.911   \n",
       "4                   60        45.0              8.272             4.202   \n",
       "5                   61        46.0              7.960             3.901   \n",
       "6                   90        75.0              7.960             4.158   \n",
       "7                   91        76.0              7.664             3.891   \n",
       "8                  120       105.0              7.664             4.192   \n",
       "9                  121       106.0              7.417             3.981   \n",
       "10                 135       120.0              7.417             4.032   \n",
       "\n",
       "    Current (A)  Feed conductivity (mS/cm)  Feed pH  Feed concentration (g/L)  \\\n",
       "0           NaN                     9.1300     5.63                  3.011023   \n",
       "1         0.192                     8.6300     8.92                  2.701598   \n",
       "2         0.168                     6.3100     9.01                  1.932361   \n",
       "3         0.157                        NaN      NaN                       NaN   \n",
       "4         0.086                     2.6600     8.67                  0.810752   \n",
       "5         0.082                        NaN      NaN                       NaN   \n",
       "6         0.037                     0.8500     7.93                  0.254380   \n",
       "7         0.037                        NaN      NaN                       NaN   \n",
       "8         0.018                     0.1863     7.34                  0.042786   \n",
       "9         0.018                        NaN      NaN                       NaN   \n",
       "10        0.013                     0.0698     7.01                  0.010248   \n",
       "\n",
       "    Concentrate conductivity (mS/cm)  Conc. pH  \\\n",
       "0                               9.17      5.56   \n",
       "1                               8.92      9.04   \n",
       "2                              11.24      8.70   \n",
       "3                                NaN       NaN   \n",
       "4                              14.61      8.22   \n",
       "5                                NaN       NaN   \n",
       "6                              16.17      8.10   \n",
       "7                                NaN       NaN   \n",
       "8                              16.67      8.06   \n",
       "9                                NaN       NaN   \n",
       "10                             16.74      7.96   \n",
       "\n",
       "    Concentrate concentration (g/L)  \n",
       "0                          3.013884  \n",
       "1                          2.920419  \n",
       "2                          3.707479  \n",
       "3                               NaN  \n",
       "4                          4.844255  \n",
       "5                               NaN  \n",
       "6                          5.370352  \n",
       "7                               NaN  \n",
       "8                          5.616354  \n",
       "9                               NaN  \n",
       "10                         5.714209  "
      ]
     },
     "execution_count": 25,
     "metadata": {},
     "output_type": "execute_result"
    }
   ],
   "source": [
    "data_orig"
   ]
  },
  {
   "cell_type": "code",
   "execution_count": 26,
   "metadata": {},
   "outputs": [
    {
     "data": {
      "text/plain": [
       "array([  0,  15,  30,  31,  60,  61,  90,  91, 120, 121, 135])"
      ]
     },
     "execution_count": 26,
     "metadata": {},
     "output_type": "execute_result"
    }
   ],
   "source": [
    "np.array(data_orig['time elapsed (min)'])"
   ]
  },
  {
   "cell_type": "code",
   "execution_count": 27,
   "metadata": {},
   "outputs": [
    {
     "data": {
      "text/plain": [
       "array([3.01102272, 2.70159756, 1.93236099,        nan, 0.8107522 ,\n",
       "              nan, 0.25437981,        nan, 0.04278557,        nan,\n",
       "       0.01024849])"
      ]
     },
     "execution_count": 27,
     "metadata": {},
     "output_type": "execute_result"
    }
   ],
   "source": [
    "np.array(data_orig['Feed concentration (g/L)'])"
   ]
  },
  {
   "cell_type": "code",
   "execution_count": 28,
   "metadata": {},
   "outputs": [
    {
     "data": {
      "text/plain": [
       "[<matplotlib.lines.Line2D at 0x177958f70>]"
      ]
     },
     "execution_count": 28,
     "metadata": {},
     "output_type": "execute_result"
    },
    {
     "data": {
      "image/png": "[encoded data removed]",
      "text/plain": [
       "<Figure size 640x480 with 1 Axes>"
      ]
     },
     "metadata": {},
     "output_type": "display_data"
    }
   ],
   "source": [
    "plt.plot(np.array(data['time elapsed (min)']), np.array(data['Feed concentration (g/L)']))"
   ]
  },
  {
   "cell_type": "code",
   "execution_count": 29,
   "metadata": {},
   "outputs": [
    {
     "name": "stdout",
     "output_type": "stream",
     "text": [
      " Cconc0 = 82.38 mol/m3 \n",
      " Cdil0 = 76.21 mol/m3\n"
     ]
    }
   ],
   "source": [
    "# Execute simulation\n",
    "MW_Cl, MW_Na = 35.45, 23 # Molecular weight of Cl & Na, g/mol\n",
    "Cdil0 = data.loc[1, 'Feed concentration (g/L)'] * 1e3/ MW_Cl # Cl in Concentrate inlet (mol/m3)\n",
    "Cconc0 = data.loc[1, 'Concentrate concentration (g/L)'] * 1e3 / MW_Cl # Cl in Diluate inlet (mol/m3)    \n",
    "\n",
    "print(f\" Cconc0 = {Cconc0:.2f} mol/m3 \\n Cdil0 = {Cdil0:.2f} mol/m3\")"
   ]
  },
  {
   "cell_type": "code",
   "execution_count": 30,
   "metadata": {},
   "outputs": [],
   "source": [
    "NaCL = NaclSolution()"
   ]
  },
  {
   "cell_type": "code",
   "execution_count": 31,
   "metadata": {},
   "outputs": [
    {
     "name": "stdout",
     "output_type": "stream",
     "text": [
      "km_conc = 1.04e-06 m/s \n",
      "km_dil = 4.25e-07 m/s\n"
     ]
    }
   ],
   "source": [
    "Qconc = (50*1e-6) / 60      # Flow rate dil. chamber m^3/s\n",
    "Qdil = (25*1e-6) / 60       # Flow rate conc. chamber m^3/s\n",
    "A = 14e-4                   # Cross sectional area of channel m^2\n",
    "psp = 0.13                  # porosity of compartment\n",
    "Ldil = 3e-3                 # Diluate channel thickness, m\n",
    "Lconc = 1e-3                # Concentrate channel thickness, m\n",
    "km_conc = NaCL.mtc(Q=Qconc, A=A, h=Lconc, N=4, c=Cconc0, p=1) # mass transfer coefficient, m/s\n",
    "km_dil = NaCL.mtc(Q=Qdil, A=A, h=Ldil, N=4, c=Cdil0, p=1) # mass transfer coefficient, m/s\n",
    "\n",
    "print(f\"km_conc = {km_conc:.2e} m/s \\nkm_dil = {km_dil:.2e} m/s\")"
   ]
  },
  {
   "cell_type": "code",
   "execution_count": 32,
   "metadata": {},
   "outputs": [
    {
     "data": {
      "text/plain": [
       "11"
      ]
     },
     "execution_count": 32,
     "metadata": {},
     "output_type": "execute_result"
    }
   ],
   "source": [
    "last = len(data_orig)\n",
    "last"
   ]
  },
  {
   "cell_type": "code",
   "execution_count": 33,
   "metadata": {},
   "outputs": [
    {
     "data": {
      "text/plain": [
       "5.703962581014157"
      ]
     },
     "execution_count": 33,
     "metadata": {},
     "output_type": "execute_result"
    }
   ],
   "source": [
    "psp = 13.0/100\n",
    "def mk_dil(poros=psp):\n",
    "    idx = 'Feed concentration (g/L)'\n",
    "    Inlet = (data_orig.loc[0, idx]*1e3/35.45) # mol/m3\n",
    "    Outlet = (data_orig.loc[last-1, idx]*1e3/35.45) # mol/m3\n",
    "\n",
    "    Qdil = (25e-6)/60 # m3/s\n",
    "    A = 14e-4 # m2\n",
    "    n = 4\n",
    "\n",
    "    return ((Inlet - Outlet)/Inlet)*Qdil/(poros*A*n)\n",
    "\n",
    "mk_dil()*1e4"
   ]
  },
  {
   "cell_type": "code",
   "execution_count": 34,
   "metadata": {},
   "outputs": [
    {
     "data": {
      "text/plain": [
       "1.3332768500876"
      ]
     },
     "execution_count": 34,
     "metadata": {},
     "output_type": "execute_result"
    }
   ],
   "source": [
    "def mk_conc():\n",
    "    idx = 'Concentrate concentration (g/L)'\n",
    "    Inlet = (data_orig.loc[0, idx]*1e3/35.45) # mol/m3\n",
    "    Outlet = (data_orig.loc[last-1, idx]*1e3/35.45) # mol/m3\n",
    "\n",
    "    Qconc = (50e-6)/60 # m3/s\n",
    "    A = 14e-4 # m2\n",
    "    n = 4\n",
    "\n",
    "    return -1*((Inlet - Outlet)/Inlet)*Qconc/(A*n)\n",
    "\n",
    "mk_conc()*1e4"
   ]
  },
  {
   "cell_type": "markdown",
   "metadata": {},
   "source": [
    "Sorption of metal ions in resins is usually diffusion-controlled and, for dilute solutions, it is generally\n",
    "admitted that external transfer is the rate-controlling process (Helfferich, 1962), the driving force being the concentration gradient through the diffusion film:"
   ]
  },
  {
   "cell_type": "code",
   "execution_count": 35,
   "metadata": {},
   "outputs": [
    {
     "name": "stdout",
     "output_type": "stream",
     "text": [
      "Simulation started\n",
      "Concentration @ Inlet: Diluate - 76.21, Concentrate - 82.38\n",
      "Simulation completed\n"
     ]
    },
    {
     "data": {
      "image/png": "[encoded data removed]",
      "text/plain": [
       "<Figure size 1000x500 with 2 Axes>"
      ]
     },
     "metadata": {},
     "output_type": "display_data"
    }
   ],
   "source": [
    "def compute_jEDI(Cconc, Cdil, t, resin, params=[35.45, 4, 3e-3, 1e-3, 14e-4, 4, 298, 1, 1, 0.6, 0.4, 7e-3, 6e-3, 1, 1, 70, 70]):\n",
    "    F = 96485 # Faraday's constant, C/mol\n",
    "    R = 8.314 # Gas constant, J/mol-K\n",
    "    #[MW_Cl, N, Ldil, Lconc, A, Ecell, T, phi, z, t_minus, t_plus, km_dil, km_conc, perm_c, perm_a, Cconc0, Cdil0] = params\n",
    "    [MW, N, Ldil, Lconc, A, Ecell, T, phi, z, t_minus, t_plus, km_dil, km_conc, perm_c, perm_a, Cconc0, Cdil0] = params\n",
    "\n",
    "    NaCl = NaclSolution()\n",
    "\n",
    "    j = 0.001 # A/m2 initial guess\n",
    "    iteration = 0 # Variable to store the number of iterations\n",
    "    while True:\n",
    "        ## A: ******** non-ohmic drop ******** ## \n",
    "        # 1. membrane-solution interface\n",
    "        # km_conc = NaCl.mtc(Q=Qconc, A=A, h=Lconc, c=Cconc, N=N, p=1) # p=1 because it is empty bed\n",
    "        # km_dil = NaCl.mtc(Q=Qdil, A=A, h=Ldil, c=Cdil, N=N, p=psp) # p=1 because it's not empty bed\n",
    "        \n",
    "        Cwadil = Cdil - phi * j / (z * F * km_dil) * (1 - t_minus)\n",
    "        Cwaconc = Cconc + phi * j / (z * F * km_conc) * (1 - t_minus)\n",
    "        Cwcdil = Cdil - phi * j / (z * F * km_dil) * (1 - t_plus)\n",
    "        Cwcconc = Cconc + phi * j / (z * F * km_conc) * (1 - t_plus)\n",
    "        \n",
    "        a_conc_wc, a_dil_wc, a_conc_wa, a_dil_wa = NaCl.activity(Cwcconc), NaCl.activity(Cwcdil), NaCl.activity(Cwaconc), NaCl.activity(Cwadil)\n",
    "        Emem_cem = N * perm_c * (R * T / F) * np.log((a_conc_wc * Cwcconc) / (a_dil_wc * Cwcdil)) #+ N * NaCl.nohm_BL(cDBL=Cwadil, cBULK=Cdil, Temp=T) + N * NaCl.nohm_BL(cDBL=Cwaconc, cBULK=Cconc, Temp=T)\n",
    "        Emem_aem = N * perm_a * (R * T / F) * np.log((a_conc_wa * Cwaconc) / ( a_dil_wa * Cwadil)) #+ N * NaCl.nohm_BL(cDBL=Cwadil, cBULK=Cdil, Temp=T) + N * NaCl.nohm_BL(cDBL=Cwaconc, cBULK=Cconc, Temp=T)\n",
    "\n",
    "        Eresin_mem = N * (2*t_minus - 1)*(R * T / F) * np.log((a_dil_wc * Cwcdil)/ (a_dil_wa * Cwadil)) # solution on opposite side of bed\n",
    "\n",
    "        ## B: ******** ohmic drop ******** ## \n",
    "        # 1. diluate, ohm-m2\n",
    "        R_dil_soln = N * Ldil * 10 / NaCl.solnCond(Cdil) # solution\n",
    "        R_dil_resin = N * Ldil * 10 / NaCl.resinCond(Cdil, name=resin) # resin\n",
    "        R_dil = R_dil_soln + R_dil_resin\n",
    "        # 2. concentrate, ohm-m2\n",
    "        R_conc = N * Lconc * 10 / NaCl.solnCond(Cdil)\n",
    "        # 3. membrane\n",
    "        ra = N * NaCl.AMX(Cdil) # ohm-m2; approx. 2.8e-4\n",
    "        rc = N * NaCl.CMX(Cdil) # ohm-m2; aprox. 2.5e-4\n",
    "        # 4. Boundary layer\n",
    "        EBL_aem = N * (NaCl.ohm_BL(cDBL=Cwadil, cBULK=Cdil, tIEM=1, tBULK=t_minus) + NaCl.ohm_BL(cDBL=Cwaconc, cBULK=Cconc, tIEM=1, tBULK=t_minus))\n",
    "        EBL_cem = N * (NaCl.ohm_BL(cDBL=Cwcdil, cBULK=Cdil, tIEM=1, tBULK=t_plus) + NaCl.ohm_BL(cDBL=Cwcconc, cBULK=Cconc, tIEM=1, tBULK=t_plus))\n",
    "\n",
    "        ## current density (A/m2)\n",
    "        calculated_j = (Ecell - (Emem_cem + Emem_aem + EBL_aem + EBL_cem + Eresin_mem)) / (R_dil + R_conc + ra + rc)\n",
    "        if abs(calculated_j - j) <= 0.1 or iteration > 10000:\n",
    "            j = calculated_j\n",
    "            break\n",
    "\n",
    "        j = calculated_j\n",
    "        iteration += 1\n",
    "\n",
    "    return j # A/m2\n",
    "\n",
    "def EDI(\n",
    "                Cconc0 = 70, # Inlet concentrate concentration at inlet at t=0, mol/m3\n",
    "                Cdil0 = 70, # Inlet diluate concentration at inlet at t=0, mol/m3\n",
    "                N = 4, # No of cell pairs\n",
    "                Vconc = 0.25e-3, # concentrate tank volume, m^3; 23-25 mL each\n",
    "                Vdil = 0.25e-3, # diluate tank volume, m^3\n",
    "                Qconc = (50*1e-6) / 60, # Flow rate dil. chamber m^3/s\n",
    "                Qdil = (25*1e-6) / 60, # Flow rate conc. chamber m^3/s\n",
    "                Da = 5.5e-11, # Avg diffusion coeff of NaCl in AEM (AMX), m^2/s - (M.L. Cerva et al.)\n",
    "                Dc = 5.5e-11, # Avg diffusion coeff of NaCl in CEM (CMX), m^2/s - (M.L. Cerva et al.)\n",
    "                La = 0.14e-3, # AEM thickness, m (M.L. Cerva et al.)\n",
    "                Lc = 0.181e-3, # CEM thickness, m (M.L. Cerva et al.)\n",
    "                perm_a = 1, # Anionic permselectivity, unitless\n",
    "                perm_c = 1, # Cationic permselectivity, unitless\n",
    "                km_dil = 7.4e-04, # diluate mass transfer coefficient, m/s\n",
    "                km_conc = 1.4e-4, # diluate mass transfer coefficient, m/s\n",
    "                bt = 1.5e-4, # boundary layer thickness, m (J. Veerman et al. / Journal of Membrane Science 343 (2009) 7–15)\n",
    "                Ldil = 3e-3, # Diluate channel thickness, m\n",
    "                Lconc = 1e-3, # Concentrate channel thickness, m\n",
    "                A  = 14e-4, # Membrane area, m^2\n",
    "                Ecell = 4, # cell voltage, V\n",
    "                T_tot = 135 * 60, # Total time s, min * 60\n",
    "                dt = 1, # Time step, s\n",
    "                t_eval = None, # array of time, s\n",
    "                resin_name = 'Mixed-SPEEK', # name of resin\n",
    "                dp = 570e-6, # resin particle diameter, m  570 ± 50 μm\n",
    "                kp = 5e-6, # mass transfer coefficient, m/s\n",
    "                psp = 0.238, # porosity of the resin chamber\n",
    "                T = 20+273, # Temperature K,\n",
    "                show_plot = False, # show plot or not\n",
    "                show_exp=False, # show experimental data or not\n",
    "                data=None): # Time step, s\n",
    "    # Constants\n",
    "    z = 1 # No of electrons transferred\n",
    "    t_minus, t_plus = 0.61, 0.39 # unitless\n",
    "    F = 96485 # Faraday's constant, C/mol\n",
    "    # variables\n",
    "    Vk_d, Vk_c = A*Ldil, A*Lconc # Diluate & Concentrate compartment volume, m^3\n",
    "    t_a = 0.5*(perm_a + 1) # unitless\n",
    "    t_c = 0.5*(perm_c + 1) # unitless\n",
    "    phi = t_c - (1 - t_a) # Current efficiency\n",
    "    # set as global variables\n",
    "    keys = [MW_Cl, N, Ldil, Lconc, A, Ecell, T, phi, z, t_minus, t_plus, km_dil, km_conc, perm_c, perm_a, Cconc0, Cdil0]\n",
    "    NaCl_m = NaclSolution()\n",
    "\n",
    "    def dCdt(C, t):\n",
    "        '''\n",
    "            params:\n",
    "                Cconc: Concentrate concentration at outlet\n",
    "                Cdil: Concentrate concentration at outlet\n",
    "                Cconc_in: Concentrate concentration at inlet\n",
    "                Cdil_in: Diluate concentration at inlet\n",
    "            return:\n",
    "                DconcDt: 1st diff of Concentrate concentration wrt time\n",
    "                DdilDt: 1st diff of Diluate concentration wrt time\n",
    "                Dconc_inDt: 1st diff of Conc concentratn wrt time @ inlet\n",
    "                Ddil_inDt: 1st diff of Diluate concentration wrt time @ inlet\n",
    "\n",
    "        '''\n",
    "        # unpacking the concentrations (mol/m3) array\n",
    "        Cconc, Cdil, Cdilresin, Cconc_in, Cdil_in = C\n",
    "        \n",
    "        # current density in A/m2\n",
    "        j = compute_jEDI(Cconc=Cconc, Cdil=Cdil, t=t, resin=resin_name, params=keys) \n",
    "     \n",
    "        # concentrations at the membrane-solution interface\n",
    "        # km_conc = NaCl_m.mtc(Q=Qconc, A=A, h=Lconc, c=Cconc, N=N, p=1) # p=1 because it is empty bed\n",
    "        # km_dil = NaCl_m.mtc(Q=Qdil, A=A, h=Ldil, c=Cdil, N=N, p=psp) # p=psi because it isnt empty \n",
    "        Cwadil = Cdil - phi * j / (z * F * km_dil) * (1 - t_minus)\n",
    "        Cwaconc = Cconc + phi * j / (z * F * km_conc) * (1 - t_minus)\n",
    "        Cwcdil = Cdil - phi * j / (z * F * km_dil) * (1 - t_plus)\n",
    "        Cwcconc = Cconc + phi * j / (z * F * km_conc) * (1 - t_plus)\n",
    "\n",
    "        # ************ differential equations for the concentrations ************ #\n",
    "        # bulk solution in concentrate compartment\n",
    "        DconcDt = (Qconc * (Cconc_in - Cconc) + N * phi * j * A / (z * F)\n",
    "                        - N * A * Da * (Cwaconc - Cwadil) / La\n",
    "                        - N * A * Dc * (Cwcconc - Cwcdil) / Lc) / (N * Vk_c) # mol/m3-s\n",
    "        \n",
    "        # resin in the diluate compartment\n",
    "        DdilresinDt = 6*(kp/dp) * (Cdil - Cdilresin) # mol/m3-s\n",
    "        # bulk solution in diluate compartment\n",
    "        DdilDt = ((Qdil * (Cdil_in - Cdil)) - (1-psp)*Vk_d*DdilresinDt - (N * phi * j * A / (z * F))\n",
    "                        + (N * A * Da * (Cwaconc - Cwadil) / La)\n",
    "                        + (N * A * Dc * (Cwcconc - Cwcdil) / Lc)) / (N * psp * Vk_d) # mol/m3-s\n",
    "  \n",
    "        Dconc_inDt = Qconc * (Cconc - Cconc_in)/Vconc # mol/m3-s, concentrate inlet\n",
    "        Ddil_inDt = Qdil * (Cdil - Cdil_in)/Vdil # mol/m3-s, diluate inlet\n",
    "\n",
    "        return [DconcDt, DdilDt, DdilresinDt, Dconc_inDt, Ddil_inDt]\n",
    "\n",
    "\n",
    "    #**************************************Solve Equations**************************************\n",
    "    # Initial conditions\n",
    "    initial_conditions = [Cconc0, Cdil0, Cdil0, Cconc0, Cdil0] # Initial conditions for the ODEs\n",
    "\n",
    "    # Parameters\n",
    "    print('Simulation started')\n",
    "    # solve\n",
    "    print(f'Concentration @ Inlet: Diluate - {Cdil0:.2f}, Concentrate - {Cconc0:.2f}')\n",
    "    \n",
    "    if t_eval is None:\n",
    "        teval = np.arange(0, T_tot+(dt/dt), dt)\n",
    "    else:\n",
    "        teval = t_eval\n",
    "\n",
    "    C = odeint(func=dCdt, y0=np.array(initial_conditions), t=teval)\n",
    "    print('Simulation completed')\n",
    "\n",
    "\n",
    "    # **************************************Plot Results**************************************\n",
    "    createFig = DeviceFigure()\n",
    "    I=createFig.EDI(C = C, teval=teval, resin_name = resin_name, param = keys, show_exp = show_exp, show_plot = show_plot, data = data, jcompute=compute_jEDI, xlim=(T_tot/60) + 5)\n",
    "\n",
    "    return C, I, teval, keys\n",
    "\n",
    "       \n",
    "ConcEff, current, teval, params = EDI(  Ecell = 4, resin_name = 'AER-CEI', Da=5.5e-11, Dc=5.5e-11,\n",
    "                                        Cconc0 = Cconc0, Cdil0 = Cdil0, psp = 13.0/100,\n",
    "                                        kp = 5e-6, km_dil = mk_dil(), km_conc = mk_conc(), \n",
    "                                        show_exp = True, data = data, show_plot = True,\n",
    "                                        T_tot = 120*60, dt = 15*60, t_eval = data['time (min)'].values * 60 \n",
    "                                        )"
   ]
  }
 ],
 "metadata": {
  "kernelspec": {
   "display_name": "MatML",
   "language": "python",
   "name": "python3"
  },
  "language_info": {
   "codemirror_mode": {
    "name": "ipython",
    "version": 3
   },
   "file_extension": ".py",
   "mimetype": "text/x-python",
   "name": "python",
   "nbconvert_exporter": "python",
   "pygments_lexer": "ipython3",
   "version": "3.8.17"
  }
 },
 "nbformat": 4,
 "nbformat_minor": 2
}
